{
 "cells": [
  {
   "cell_type": "code",
   "execution_count": 3,
   "metadata": {},
   "outputs": [],
   "source": [
    "import json\n",
    "import copy\n",
    "import os\n",
    "mdcell,codecell={\n",
    "   \"cell_type\": \"markdown\",\n",
    "   \"metadata\": {},\n",
    "   \"source\": [\n",
    "    \"# 1\"\n",
    "   ]\n",
    "  },{\n",
    "   \"cell_type\": \"code\",\n",
    "   \"execution_count\": 1,\n",
    "   \"metadata\": {},\n",
    "   \"outputs\": [],\n",
    "   \"source\": [\n",
    "    \"from helper import aoc\\n\",\n",
    "    \"year=2021\\n\",\n",
    "    \"day=1\\n\",\n",
    "    \"fileName=aoc.init(day,year)\\n\",\n",
    "    \"\\n\",\n",
    "    \"f = open( fileName  , 'r' )\"\n",
    "   ]\n",
    "  }\n",
    "\n",
    "for k in range(2015,2022):\n",
    "    cells=[]\n",
    "    fileName=f'aoc{k}.ipynb'\n",
    "    if not os.path.exists(fileName):\n",
    "        for i in range(24):\n",
    "            mdc=copy.deepcopy(mdcell)\n",
    "            mdc['source'][0]=f'# {i+1}'\n",
    "            cells.append(mdc)\n",
    "            cc=copy.deepcopy(codecell)\n",
    "            cc['source'][1]=f'year={k}\\n'\n",
    "            cc['source'][2]=f'day={i+1}\\n'\n",
    "            cells.append(cc)\n",
    "        f=open('blank_aoc_ipynb.json','r')\n",
    "        data=json.load(f)\n",
    "        f.close()\n",
    "        data['cells']=cells\n",
    "        with open(fileName,'w') as f:\n",
    "            f.write(json.dumps(data))\n",
    "\n"
   ]
  }
 ],
 "metadata": {
  "kernelspec": {
   "display_name": "Python 3.8.15 ('base')",
   "language": "python",
   "name": "python3"
  },
  "language_info": {
   "codemirror_mode": {
    "name": "ipython",
    "version": 3
   },
   "file_extension": ".py",
   "mimetype": "text/x-python",
   "name": "python",
   "nbconvert_exporter": "python",
   "pygments_lexer": "ipython3",
   "version": "3.8.15"
  },
  "orig_nbformat": 4,
  "vscode": {
   "interpreter": {
    "hash": "7b78b0419171d1f78706df6d7ef50ca62911b700555ea60e4fcbf2bb689c61b5"
   }
  }
 },
 "nbformat": 4,
 "nbformat_minor": 2
}
